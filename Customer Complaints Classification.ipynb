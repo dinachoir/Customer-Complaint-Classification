{
 "cells": [
  {
   "cell_type": "markdown",
   "id": "9ff7e242",
   "metadata": {},
   "source": [
    "# Customer Complaints Classification"
   ]
  },
  {
   "cell_type": "markdown",
   "id": "be141d7f",
   "metadata": {},
   "source": [
    "## Objective\n",
    "\n",
    "Classify consumers' complaints into the product category it belongs to using the description of the complaint."
   ]
  },
  {
   "cell_type": "markdown",
   "id": "46066c05",
   "metadata": {},
   "source": [
    "## Content\n",
    "\n",
    "1. Exploratory Data Analysis\n",
    "\n",
    "2. Text preprocessing\n",
    "\n",
    "3. Complaint Classifier Model"
   ]
  },
  {
   "cell_type": "code",
   "execution_count": 1,
   "id": "7322a637",
   "metadata": {},
   "outputs": [],
   "source": [
    "import numpy as np\n",
    "import pandas as pd\n",
    "import matplotlib.pyplot as plt\n",
    "import string\n",
    "from nltk.stem import SnowballStemmer\n",
    "from nltk.corpus import stopwords\n",
    "from sklearn.feature_extraction.text import TfidfVectorizer\n",
    "from sklearn.model_selection import train_test_split\n",
    "import os\n",
    "from textblob import TextBlob\n",
    "from nltk.stem import PorterStemmer\n",
    "from textblob import Word\n",
    "from sklearn.feature_extraction.text import CountVectorizer,TfidfVectorizer\n",
    "import sklearn.feature_extraction.text as text\n",
    "from sklearn import model_selection, preprocessing, linear_model, naive_bayes, metrics, svm\n",
    "from sklearn.naive_bayes import MultinomialNB\n",
    "from sklearn.linear_model import LogisticRegression\n",
    "from sklearn.ensemble import RandomForestClassifier\n",
    "from sklearn.svm import LinearSVC\n",
    "from sklearn.model_selection import cross_val_score\n",
    "from io import StringIO\n",
    "import seaborn as sns"
   ]
  },
  {
   "cell_type": "code",
   "execution_count": 2,
   "id": "729cd5ba",
   "metadata": {},
   "outputs": [
    {
     "name": "stderr",
     "output_type": "stream",
     "text": [
      "C:\\Users\\ASUS\\anaconda3\\lib\\site-packages\\IPython\\core\\interactiveshell.py:3444: DtypeWarning: Columns (5,11) have mixed types.Specify dtype option on import or set low_memory=False.\n",
      "  exec(code_obj, self.user_global_ns, self.user_ns)\n"
     ]
    },
    {
     "data": {
      "text/html": [
       "<div>\n",
       "<style scoped>\n",
       "    .dataframe tbody tr th:only-of-type {\n",
       "        vertical-align: middle;\n",
       "    }\n",
       "\n",
       "    .dataframe tbody tr th {\n",
       "        vertical-align: top;\n",
       "    }\n",
       "\n",
       "    .dataframe thead th {\n",
       "        text-align: right;\n",
       "    }\n",
       "</style>\n",
       "<table border=\"1\" class=\"dataframe\">\n",
       "  <thead>\n",
       "    <tr style=\"text-align: right;\">\n",
       "      <th></th>\n",
       "      <th>date_received</th>\n",
       "      <th>product</th>\n",
       "      <th>sub_product</th>\n",
       "      <th>issue</th>\n",
       "      <th>sub_issue</th>\n",
       "      <th>consumer_complaint_narrative</th>\n",
       "      <th>company_public_response</th>\n",
       "      <th>company</th>\n",
       "      <th>state</th>\n",
       "      <th>zipcode</th>\n",
       "      <th>tags</th>\n",
       "      <th>consumer_consent_provided</th>\n",
       "      <th>submitted_via</th>\n",
       "      <th>date_sent_to_company</th>\n",
       "      <th>company_response_to_consumer</th>\n",
       "      <th>timely_response</th>\n",
       "      <th>consumer_disputed?</th>\n",
       "      <th>complaint_id</th>\n",
       "    </tr>\n",
       "  </thead>\n",
       "  <tbody>\n",
       "    <tr>\n",
       "      <th>555952</th>\n",
       "      <td>07/01/2014</td>\n",
       "      <td>Mortgage</td>\n",
       "      <td>Other mortgage</td>\n",
       "      <td>Loan modification,collection,foreclosure</td>\n",
       "      <td>NaN</td>\n",
       "      <td>NaN</td>\n",
       "      <td>NaN</td>\n",
       "      <td>Bank of America</td>\n",
       "      <td>NaN</td>\n",
       "      <td>NaN</td>\n",
       "      <td>NaN</td>\n",
       "      <td>NaN</td>\n",
       "      <td>Referral</td>\n",
       "      <td>07/07/2014</td>\n",
       "      <td>Closed with explanation</td>\n",
       "      <td>Yes</td>\n",
       "      <td>No</td>\n",
       "      <td>919529</td>\n",
       "    </tr>\n",
       "    <tr>\n",
       "      <th>555953</th>\n",
       "      <td>07/01/2014</td>\n",
       "      <td>Mortgage</td>\n",
       "      <td>Other mortgage</td>\n",
       "      <td>Loan servicing, payments, escrow account</td>\n",
       "      <td>NaN</td>\n",
       "      <td>NaN</td>\n",
       "      <td>NaN</td>\n",
       "      <td>Residential Credit Solutions</td>\n",
       "      <td>NaN</td>\n",
       "      <td>NaN</td>\n",
       "      <td>Older American, Servicemember</td>\n",
       "      <td>NaN</td>\n",
       "      <td>Referral</td>\n",
       "      <td>07/23/2014</td>\n",
       "      <td>Closed with explanation</td>\n",
       "      <td>No</td>\n",
       "      <td>No</td>\n",
       "      <td>918447</td>\n",
       "    </tr>\n",
       "    <tr>\n",
       "      <th>555954</th>\n",
       "      <td>07/10/2012</td>\n",
       "      <td>Mortgage</td>\n",
       "      <td>Conventional fixed mortgage</td>\n",
       "      <td>Loan modification,collection,foreclosure</td>\n",
       "      <td>NaN</td>\n",
       "      <td>NaN</td>\n",
       "      <td>NaN</td>\n",
       "      <td>BB&amp;T Financial</td>\n",
       "      <td>NaN</td>\n",
       "      <td>NaN</td>\n",
       "      <td>NaN</td>\n",
       "      <td>NaN</td>\n",
       "      <td>Phone</td>\n",
       "      <td>11/18/2013</td>\n",
       "      <td>Closed with explanation</td>\n",
       "      <td>Yes</td>\n",
       "      <td>No</td>\n",
       "      <td>114550</td>\n",
       "    </tr>\n",
       "    <tr>\n",
       "      <th>555955</th>\n",
       "      <td>04/14/2015</td>\n",
       "      <td>Debt collection</td>\n",
       "      <td>I do not know</td>\n",
       "      <td>Communication tactics</td>\n",
       "      <td>Frequent or repeated calls</td>\n",
       "      <td>NaN</td>\n",
       "      <td>NaN</td>\n",
       "      <td>Global Recovery Group</td>\n",
       "      <td>NaN</td>\n",
       "      <td>NaN</td>\n",
       "      <td>NaN</td>\n",
       "      <td>NaN</td>\n",
       "      <td>Phone</td>\n",
       "      <td>04/14/2015</td>\n",
       "      <td>Untimely response</td>\n",
       "      <td>No</td>\n",
       "      <td>No</td>\n",
       "      <td>1329963</td>\n",
       "    </tr>\n",
       "    <tr>\n",
       "      <th>555956</th>\n",
       "      <td>08/14/2014</td>\n",
       "      <td>Debt collection</td>\n",
       "      <td>I do not know</td>\n",
       "      <td>Cont'd attempts collect debt not owed</td>\n",
       "      <td>Debt is not mine</td>\n",
       "      <td>NaN</td>\n",
       "      <td>NaN</td>\n",
       "      <td>CCS Financial Services, Inc.</td>\n",
       "      <td>NaN</td>\n",
       "      <td>NaN</td>\n",
       "      <td>NaN</td>\n",
       "      <td>NaN</td>\n",
       "      <td>Phone</td>\n",
       "      <td>08/18/2014</td>\n",
       "      <td>Closed with explanation</td>\n",
       "      <td>Yes</td>\n",
       "      <td>No</td>\n",
       "      <td>984116</td>\n",
       "    </tr>\n",
       "  </tbody>\n",
       "</table>\n",
       "</div>"
      ],
      "text/plain": [
       "       date_received          product                  sub_product  \\\n",
       "555952    07/01/2014         Mortgage               Other mortgage   \n",
       "555953    07/01/2014         Mortgage               Other mortgage   \n",
       "555954    07/10/2012         Mortgage  Conventional fixed mortgage   \n",
       "555955    04/14/2015  Debt collection                I do not know   \n",
       "555956    08/14/2014  Debt collection                I do not know   \n",
       "\n",
       "                                           issue                   sub_issue  \\\n",
       "555952  Loan modification,collection,foreclosure                         NaN   \n",
       "555953  Loan servicing, payments, escrow account                         NaN   \n",
       "555954  Loan modification,collection,foreclosure                         NaN   \n",
       "555955                     Communication tactics  Frequent or repeated calls   \n",
       "555956     Cont'd attempts collect debt not owed            Debt is not mine   \n",
       "\n",
       "       consumer_complaint_narrative company_public_response  \\\n",
       "555952                          NaN                     NaN   \n",
       "555953                          NaN                     NaN   \n",
       "555954                          NaN                     NaN   \n",
       "555955                          NaN                     NaN   \n",
       "555956                          NaN                     NaN   \n",
       "\n",
       "                             company state zipcode  \\\n",
       "555952               Bank of America   NaN     NaN   \n",
       "555953  Residential Credit Solutions   NaN     NaN   \n",
       "555954                BB&T Financial   NaN     NaN   \n",
       "555955         Global Recovery Group   NaN     NaN   \n",
       "555956  CCS Financial Services, Inc.   NaN     NaN   \n",
       "\n",
       "                                 tags consumer_consent_provided submitted_via  \\\n",
       "555952                            NaN                       NaN      Referral   \n",
       "555953  Older American, Servicemember                       NaN      Referral   \n",
       "555954                            NaN                       NaN         Phone   \n",
       "555955                            NaN                       NaN         Phone   \n",
       "555956                            NaN                       NaN         Phone   \n",
       "\n",
       "       date_sent_to_company company_response_to_consumer timely_response  \\\n",
       "555952           07/07/2014      Closed with explanation             Yes   \n",
       "555953           07/23/2014      Closed with explanation              No   \n",
       "555954           11/18/2013      Closed with explanation             Yes   \n",
       "555955           04/14/2015            Untimely response              No   \n",
       "555956           08/18/2014      Closed with explanation             Yes   \n",
       "\n",
       "       consumer_disputed?  complaint_id  \n",
       "555952                 No        919529  \n",
       "555953                 No        918447  \n",
       "555954                 No        114550  \n",
       "555955                 No       1329963  \n",
       "555956                 No        984116  "
      ]
     },
     "execution_count": 2,
     "metadata": {},
     "output_type": "execute_result"
    }
   ],
   "source": [
    "data = pd.read_csv(\"D:\\Projects\\Consumer_Complaints.csv\",encoding='latin-1')\n",
    "data.tail()"
   ]
  },
  {
   "cell_type": "code",
   "execution_count": 3,
   "id": "e2964962",
   "metadata": {},
   "outputs": [
    {
     "data": {
      "text/plain": [
       "date_received                   object\n",
       "product                         object\n",
       "sub_product                     object\n",
       "issue                           object\n",
       "sub_issue                       object\n",
       "consumer_complaint_narrative    object\n",
       "company_public_response         object\n",
       "company                         object\n",
       "state                           object\n",
       "zipcode                         object\n",
       "tags                            object\n",
       "consumer_consent_provided       object\n",
       "submitted_via                   object\n",
       "date_sent_to_company            object\n",
       "company_response_to_consumer    object\n",
       "timely_response                 object\n",
       "consumer_disputed?              object\n",
       "complaint_id                     int64\n",
       "dtype: object"
      ]
     },
     "execution_count": 3,
     "metadata": {},
     "output_type": "execute_result"
    }
   ],
   "source": [
    "data.dtypes"
   ]
  },
  {
   "cell_type": "code",
   "execution_count": 4,
   "id": "ec3981b1",
   "metadata": {},
   "outputs": [],
   "source": [
    "# Selecting required columns and rows\n",
    "data = data[['product', 'consumer_complaint_narrative']]\n",
    "data = data[pd.notnull(data['consumer_complaint_narrative'])]"
   ]
  },
  {
   "cell_type": "code",
   "execution_count": 5,
   "id": "c08fd547",
   "metadata": {},
   "outputs": [
    {
     "data": {
      "text/plain": [
       "array([ 0,  1,  2,  3,  4,  5,  6,  7,  8,  9, 10], dtype=int64)"
      ]
     },
     "execution_count": 5,
     "metadata": {},
     "output_type": "execute_result"
    }
   ],
   "source": [
    "# Factorizing the category column\n",
    "data['category_id'] = data['product'].factorize()[0]\n",
    "data['category_id'].unique()"
   ]
  },
  {
   "cell_type": "code",
   "execution_count": 6,
   "id": "add48a23",
   "metadata": {},
   "outputs": [
    {
     "data": {
      "text/html": [
       "<div>\n",
       "<style scoped>\n",
       "    .dataframe tbody tr th:only-of-type {\n",
       "        vertical-align: middle;\n",
       "    }\n",
       "\n",
       "    .dataframe tbody tr th {\n",
       "        vertical-align: top;\n",
       "    }\n",
       "\n",
       "    .dataframe thead th {\n",
       "        text-align: right;\n",
       "    }\n",
       "</style>\n",
       "<table border=\"1\" class=\"dataframe\">\n",
       "  <thead>\n",
       "    <tr style=\"text-align: right;\">\n",
       "      <th></th>\n",
       "      <th>product</th>\n",
       "      <th>category_id</th>\n",
       "    </tr>\n",
       "  </thead>\n",
       "  <tbody>\n",
       "    <tr>\n",
       "      <th>190126</th>\n",
       "      <td>Debt collection</td>\n",
       "      <td>0</td>\n",
       "    </tr>\n",
       "    <tr>\n",
       "      <th>190135</th>\n",
       "      <td>Consumer Loan</td>\n",
       "      <td>1</td>\n",
       "    </tr>\n",
       "    <tr>\n",
       "      <th>190155</th>\n",
       "      <td>Mortgage</td>\n",
       "      <td>2</td>\n",
       "    </tr>\n",
       "    <tr>\n",
       "      <th>190263</th>\n",
       "      <td>Credit card</td>\n",
       "      <td>3</td>\n",
       "    </tr>\n",
       "    <tr>\n",
       "      <th>191477</th>\n",
       "      <td>Credit reporting</td>\n",
       "      <td>4</td>\n",
       "    </tr>\n",
       "    <tr>\n",
       "      <th>191554</th>\n",
       "      <td>Student loan</td>\n",
       "      <td>5</td>\n",
       "    </tr>\n",
       "    <tr>\n",
       "      <th>192044</th>\n",
       "      <td>Bank account or service</td>\n",
       "      <td>6</td>\n",
       "    </tr>\n",
       "    <tr>\n",
       "      <th>192412</th>\n",
       "      <td>Payday loan</td>\n",
       "      <td>7</td>\n",
       "    </tr>\n",
       "    <tr>\n",
       "      <th>195610</th>\n",
       "      <td>Money transfers</td>\n",
       "      <td>8</td>\n",
       "    </tr>\n",
       "    <tr>\n",
       "      <th>196507</th>\n",
       "      <td>Other financial service</td>\n",
       "      <td>9</td>\n",
       "    </tr>\n",
       "    <tr>\n",
       "      <th>197552</th>\n",
       "      <td>Prepaid card</td>\n",
       "      <td>10</td>\n",
       "    </tr>\n",
       "  </tbody>\n",
       "</table>\n",
       "</div>"
      ],
      "text/plain": [
       "                        product  category_id\n",
       "190126          Debt collection            0\n",
       "190135            Consumer Loan            1\n",
       "190155                 Mortgage            2\n",
       "190263              Credit card            3\n",
       "191477         Credit reporting            4\n",
       "191554             Student loan            5\n",
       "192044  Bank account or service            6\n",
       "192412              Payday loan            7\n",
       "195610          Money transfers            8\n",
       "196507  Other financial service            9\n",
       "197552             Prepaid card           10"
      ]
     },
     "execution_count": 6,
     "metadata": {},
     "output_type": "execute_result"
    }
   ],
   "source": [
    "#  create dictionaries\n",
    "category_id_data = data[['product', 'category_id']].drop_duplicates().sort_values('category_id')\n",
    "category_id_data"
   ]
  },
  {
   "cell_type": "code",
   "execution_count": 7,
   "id": "9c639861",
   "metadata": {},
   "outputs": [
    {
     "data": {
      "text/plain": [
       "{'Debt collection': 0,\n",
       " 'Consumer Loan': 1,\n",
       " 'Mortgage': 2,\n",
       " 'Credit card': 3,\n",
       " 'Credit reporting': 4,\n",
       " 'Student loan': 5,\n",
       " 'Bank account or service': 6,\n",
       " 'Payday loan': 7,\n",
       " 'Money transfers': 8,\n",
       " 'Other financial service': 9,\n",
       " 'Prepaid card': 10}"
      ]
     },
     "execution_count": 7,
     "metadata": {},
     "output_type": "execute_result"
    }
   ],
   "source": [
    "#  create dictionaries\n",
    "category_to_id = dict(category_id_data.values)\n",
    "category_to_id"
   ]
  },
  {
   "cell_type": "code",
   "execution_count": 8,
   "id": "f6586ddc",
   "metadata": {},
   "outputs": [
    {
     "data": {
      "text/plain": [
       "{0: 'Debt collection',\n",
       " 1: 'Consumer Loan',\n",
       " 2: 'Mortgage',\n",
       " 3: 'Credit card',\n",
       " 4: 'Credit reporting',\n",
       " 5: 'Student loan',\n",
       " 6: 'Bank account or service',\n",
       " 7: 'Payday loan',\n",
       " 8: 'Money transfers',\n",
       " 9: 'Other financial service',\n",
       " 10: 'Prepaid card'}"
      ]
     },
     "execution_count": 8,
     "metadata": {},
     "output_type": "execute_result"
    }
   ],
   "source": [
    "#  create dictionaries\n",
    "id_to_category = dict(category_id_data[['category_id', 'product']].values)\n",
    "id_to_category"
   ]
  },
  {
   "cell_type": "code",
   "execution_count": 9,
   "id": "40dee950",
   "metadata": {},
   "outputs": [
    {
     "data": {
      "text/html": [
       "<div>\n",
       "<style scoped>\n",
       "    .dataframe tbody tr th:only-of-type {\n",
       "        vertical-align: middle;\n",
       "    }\n",
       "\n",
       "    .dataframe tbody tr th {\n",
       "        vertical-align: top;\n",
       "    }\n",
       "\n",
       "    .dataframe thead th {\n",
       "        text-align: right;\n",
       "    }\n",
       "</style>\n",
       "<table border=\"1\" class=\"dataframe\">\n",
       "  <thead>\n",
       "    <tr style=\"text-align: right;\">\n",
       "      <th></th>\n",
       "      <th>product</th>\n",
       "      <th>consumer_complaint_narrative</th>\n",
       "      <th>category_id</th>\n",
       "    </tr>\n",
       "  </thead>\n",
       "  <tbody>\n",
       "    <tr>\n",
       "      <th>553084</th>\n",
       "      <td>Credit reporting</td>\n",
       "      <td>XXXX XXXX is reporting incorrectly, payments h...</td>\n",
       "      <td>4</td>\n",
       "    </tr>\n",
       "    <tr>\n",
       "      <th>553085</th>\n",
       "      <td>Credit reporting</td>\n",
       "      <td>Reflecting incorrect payment status. Have been...</td>\n",
       "      <td>4</td>\n",
       "    </tr>\n",
       "    <tr>\n",
       "      <th>553086</th>\n",
       "      <td>Payday loan</td>\n",
       "      <td>I have been paying {$180.00} a month through d...</td>\n",
       "      <td>7</td>\n",
       "    </tr>\n",
       "    <tr>\n",
       "      <th>553090</th>\n",
       "      <td>Mortgage</td>\n",
       "      <td>I recently became aware that Amerisave Mortgag...</td>\n",
       "      <td>2</td>\n",
       "    </tr>\n",
       "    <tr>\n",
       "      <th>553096</th>\n",
       "      <td>Mortgage</td>\n",
       "      <td>Bank of America has demonstrated an on-going l...</td>\n",
       "      <td>2</td>\n",
       "    </tr>\n",
       "  </tbody>\n",
       "</table>\n",
       "</div>"
      ],
      "text/plain": [
       "                 product                       consumer_complaint_narrative  \\\n",
       "553084  Credit reporting  XXXX XXXX is reporting incorrectly, payments h...   \n",
       "553085  Credit reporting  Reflecting incorrect payment status. Have been...   \n",
       "553086       Payday loan  I have been paying {$180.00} a month through d...   \n",
       "553090          Mortgage  I recently became aware that Amerisave Mortgag...   \n",
       "553096          Mortgage  Bank of America has demonstrated an on-going l...   \n",
       "\n",
       "        category_id  \n",
       "553084            4  \n",
       "553085            4  \n",
       "553086            7  \n",
       "553090            2  \n",
       "553096            2  "
      ]
     },
     "execution_count": 9,
     "metadata": {},
     "output_type": "execute_result"
    }
   ],
   "source": [
    "data.tail()"
   ]
  },
  {
   "cell_type": "code",
   "execution_count": 10,
   "id": "a7445bcd",
   "metadata": {},
   "outputs": [
    {
     "data": {
      "text/plain": [
       "product\n",
       "Bank account or service     5711\n",
       "Consumer Loan               3678\n",
       "Credit card                 7929\n",
       "Credit reporting           12526\n",
       "Debt collection            17552\n",
       "Money transfers              666\n",
       "Mortgage                   14919\n",
       "Other financial service      110\n",
       "Payday loan                  726\n",
       "Prepaid card                 861\n",
       "Student loan                2128\n",
       "Name: consumer_complaint_narrative, dtype: int64"
      ]
     },
     "execution_count": 10,
     "metadata": {},
     "output_type": "execute_result"
    }
   ],
   "source": [
    "# Check the distribution of complaints by category\n",
    "data.groupby('product').consumer_complaint_narrative.count()"
   ]
  },
  {
   "cell_type": "code",
   "execution_count": 11,
   "id": "3ce805fe",
   "metadata": {},
   "outputs": [
    {
     "data": {
      "image/png": "[encoded data removed]",
      "text/plain": [
       "<Figure size 432x288 with 1 Axes>"
      ]
     },
     "metadata": {
      "needs_background": "light"
     },
     "output_type": "display_data"
    }
   ],
   "source": [
    "# plot distribution\n",
    "data.groupby('product').consumer_complaint_narrative.count().plot.bar()\n",
    "plt.show()"
   ]
  },
  {
   "cell_type": "markdown",
   "id": "107adaf8",
   "metadata": {},
   "source": [
    "## Text Preprocessing"
   ]
  },
  {
   "cell_type": "code",
   "execution_count": 12,
   "id": "b0354491",
   "metadata": {},
   "outputs": [],
   "source": [
    "from nltk.corpus import stopwords\n",
    "from textblob import TextBlob\n",
    "from textblob import Word"
   ]
  },
  {
   "cell_type": "code",
   "execution_count": 14,
   "id": "54a44bcc",
   "metadata": {},
   "outputs": [
    {
     "name": "stderr",
     "output_type": "stream",
     "text": [
      "C:\\Users\\ASUS\\AppData\\Local\\Temp/ipykernel_24600/600231852.py:3: FutureWarning: The default value of regex will change from True to False in a future version.\n",
      "  data['consumer_complaint_narrative'] = data['consumer_complaint_narrative'].str.replace('[^\\w\\s]',\"\")\n"
     ]
    },
    {
     "data": {
      "text/plain": [
       "190126    xxxx has claimed i owe them 2700 for xxxx year...\n",
       "190135    due to inconsistencies in the amount owed that...\n",
       "190155    in xxxxxxxx my wages that i earned at my job d...\n",
       "190207    i have an open and current mortgage with chase...\n",
       "190208    xxxx was submitted xxxxxxxx at the time i subm...\n",
       "Name: consumer_complaint_narrative, dtype: object"
      ]
     },
     "execution_count": 14,
     "metadata": {},
     "output_type": "execute_result"
    }
   ],
   "source": [
    "# Lower casing and removing punctuations\n",
    "data['consumer_complaint_narrative'] = data['consumer_complaint_narrative'].apply(lambda x: \" \".join(x.lower() for x in x.split()))\n",
    "data['consumer_complaint_narrative'] = data['consumer_complaint_narrative'].str.replace('[^\\w\\s]',\"\")\n",
    "data['consumer_complaint_narrative'].head()"
   ]
  },
  {
   "cell_type": "code",
   "execution_count": 15,
   "id": "87bdc973",
   "metadata": {},
   "outputs": [
    {
     "data": {
      "text/plain": [
       "190126    xxxx claimed owe 2700 xxxx years despite proof...\n",
       "190135    due inconsistencies amount owed told bank amou...\n",
       "190155    xxxxxxxx wages earned job decreased almost hal...\n",
       "190207    open current mortgage chase bank xxxx chase re...\n",
       "190208    xxxx submitted xxxxxxxx time submitted complai...\n",
       "Name: consumer_complaint_narrative, dtype: object"
      ]
     },
     "execution_count": 15,
     "metadata": {},
     "output_type": "execute_result"
    }
   ],
   "source": [
    "# Removal of stop words\n",
    "stop = set(stopwords.words('english'))\n",
    "data['consumer_complaint_narrative'] = data['consumer_complaint_narrative'].apply(lambda x: \" \".join([x for x in x.split() if x not in stop]))\n",
    "data['consumer_complaint_narrative'].head()"
   ]
  },
  {
   "cell_type": "code",
   "execution_count": 17,
   "id": "7fa9a0f4",
   "metadata": {},
   "outputs": [
    {
     "data": {
      "text/plain": [
       "190126    xxxx claimed owe 2700 xxxx year despite proof ...\n",
       "190135    due inconsistency amount owed told bank amount...\n",
       "190155    xxxxxxxx wage earned job decreased almost half...\n",
       "190207    open current mortgage chase bank xxxx chase re...\n",
       "190208    xxxx submitted xxxxxxxx time submitted complai...\n",
       "Name: consumer_complaint_narrative, dtype: object"
      ]
     },
     "execution_count": 17,
     "metadata": {},
     "output_type": "execute_result"
    }
   ],
   "source": [
    "# Lemmatization\n",
    "data['consumer_complaint_narrative'] = data['consumer_complaint_narrative'].apply(lambda x: \" \".join([Word(word).lemmatize() for word in x.split()]))\n",
    "data['consumer_complaint_narrative'].head()"
   ]
  },
  {
   "cell_type": "markdown",
   "id": "3dd54b55",
   "metadata": {},
   "source": [
    "## Complaint Classifier"
   ]
  },
  {
   "cell_type": "code",
   "execution_count": 18,
   "id": "0e5086ad",
   "metadata": {},
   "outputs": [],
   "source": [
    "# Split the data into train and validation:\n",
    "train_x, valid_x, train_y, valid_y = model_selection.train_test_split(data['consumer_complaint_narrative'], data['product'])"
   ]
  },
  {
   "cell_type": "code",
   "execution_count": 19,
   "id": "c025215b",
   "metadata": {},
   "outputs": [],
   "source": [
    "#  Feature engineering using TF-IDF\n",
    "encoder = preprocessing.LabelEncoder()\n",
    "train_y = encoder.fit_transform(train_y)\n",
    "valid_y = encoder.fit_transform(valid_y)\n",
    "\n",
    "tfidf_vect = TfidfVectorizer(analyzer='word', stop_words='english', ngram_range=(1, 2), token_pattern=r'\\w{1,}', max_features=5000)\n",
    "tfidf_vect.fit(data['consumer_complaint_narrative'])\n",
    "\n",
    "xtrain_tfidf =  tfidf_vect.transform(train_x)\n",
    "xvalid_tfidf =  tfidf_vect.transform(valid_x)"
   ]
  },
  {
   "cell_type": "code",
   "execution_count": 20,
   "id": "a4c781f4",
   "metadata": {},
   "outputs": [
    {
     "name": "stdout",
     "output_type": "stream",
     "text": [
      "Accuracy:  0.8510956771644115\n"
     ]
    }
   ],
   "source": [
    "#  Model building and evaluation\n",
    "LogisticRegression = linear_model.LogisticRegression(max_iter=500).fit(xtrain_tfidf, train_y)\n",
    "\n",
    "# Checking accuracy\n",
    "accuracy = metrics.accuracy_score(LogisticRegression.predict(xvalid_tfidf),valid_y)\n",
    "print (\"Accuracy: \", accuracy)"
   ]
  },
  {
   "cell_type": "code",
   "execution_count": 21,
   "id": "06287201",
   "metadata": {},
   "outputs": [
    {
     "name": "stdout",
     "output_type": "stream",
     "text": [
      "Accuracy:  0.8465453239133038\n"
     ]
    }
   ],
   "source": [
    "#  Model building and evaluation\n",
    "from sklearn.svm import LinearSVC\n",
    "clf = LinearSVC()\n",
    "\n",
    "LinearSVC = clf.fit(xtrain_tfidf, train_y)\n",
    "\n",
    "# Checking accuracy\n",
    "accuracy = metrics.accuracy_score(LinearSVC.predict(xvalid_tfidf),valid_y)\n",
    "print (\"Accuracy: \", accuracy)"
   ]
  },
  {
   "cell_type": "code",
   "execution_count": 22,
   "id": "0f92eb8d",
   "metadata": {},
   "outputs": [
    {
     "name": "stdout",
     "output_type": "stream",
     "text": [
      "Accuracy:  0.47251826128607355\n"
     ]
    }
   ],
   "source": [
    "#  Model building and evaluation\n",
    "from sklearn.ensemble import RandomForestClassifier\n",
    "\n",
    "RandomForestClassifier = RandomForestClassifier(n_estimators=200, max_depth=3, random_state=0).fit(xtrain_tfidf, train_y)\n",
    "\n",
    "# Checking accuracy\n",
    "accuracy = metrics.accuracy_score(RandomForestClassifier.predict(xvalid_tfidf),valid_y)\n",
    "print (\"Accuracy: \", accuracy)"
   ]
  },
  {
   "cell_type": "code",
   "execution_count": 23,
   "id": "a7f82e29",
   "metadata": {},
   "outputs": [
    {
     "name": "stdout",
     "output_type": "stream",
     "text": [
      "Accuracy:  0.8118788169081547\n"
     ]
    }
   ],
   "source": [
    "#  Model building and evaluation\n",
    "from sklearn.naive_bayes import MultinomialNB\n",
    "\n",
    "MultinomialNB = MultinomialNB().fit(xtrain_tfidf, train_y)\n",
    "\n",
    "# Checking accuracy\n",
    "accuracy = metrics.accuracy_score(MultinomialNB.predict(xvalid_tfidf),valid_y)\n",
    "print (\"Accuracy: \", accuracy)"
   ]
  },
  {
   "cell_type": "markdown",
   "id": "9c4fc644",
   "metadata": {},
   "source": [
    "Note : Logistic Regression perform better than the other classifiers, with accuracy around 85.1%."
   ]
  },
  {
   "cell_type": "code",
   "execution_count": 24,
   "id": "5fe971fc",
   "metadata": {},
   "outputs": [
    {
     "name": "stdout",
     "output_type": "stream",
     "text": [
      "                         precision    recall  f1-score   support\n",
      "\n",
      "        Debt collection       0.83      0.81      0.82      1467\n",
      "          Consumer Loan       0.77      0.61      0.68       878\n",
      "               Mortgage       0.81      0.82      0.82      1941\n",
      "            Credit card       0.86      0.85      0.86      3159\n",
      "       Credit reporting       0.82      0.89      0.86      4371\n",
      "           Student loan       0.76      0.48      0.59       176\n",
      "Bank account or service       0.93      0.95      0.94      3793\n",
      "            Payday loan       0.00      0.00      0.00        25\n",
      "        Money transfers       0.68      0.37      0.47       156\n",
      "Other financial service       0.80      0.60      0.69       199\n",
      "           Prepaid card       0.91      0.79      0.85       537\n",
      "\n",
      "               accuracy                           0.85     16702\n",
      "              macro avg       0.74      0.65      0.69     16702\n",
      "           weighted avg       0.85      0.85      0.85     16702\n",
      "\n"
     ]
    },
    {
     "name": "stderr",
     "output_type": "stream",
     "text": [
      "C:\\Users\\ASUS\\anaconda3\\lib\\site-packages\\sklearn\\metrics\\_classification.py:1248: UndefinedMetricWarning: Precision and F-score are ill-defined and being set to 0.0 in labels with no predicted samples. Use `zero_division` parameter to control this behavior.\n",
      "  _warn_prf(average, modifier, msg_start, len(result))\n",
      "C:\\Users\\ASUS\\anaconda3\\lib\\site-packages\\sklearn\\metrics\\_classification.py:1248: UndefinedMetricWarning: Precision and F-score are ill-defined and being set to 0.0 in labels with no predicted samples. Use `zero_division` parameter to control this behavior.\n",
      "  _warn_prf(average, modifier, msg_start, len(result))\n",
      "C:\\Users\\ASUS\\anaconda3\\lib\\site-packages\\sklearn\\metrics\\_classification.py:1248: UndefinedMetricWarning: Precision and F-score are ill-defined and being set to 0.0 in labels with no predicted samples. Use `zero_division` parameter to control this behavior.\n",
      "  _warn_prf(average, modifier, msg_start, len(result))\n"
     ]
    }
   ],
   "source": [
    "# Classification report\n",
    "print(metrics.classification_report(valid_y, LogisticRegression.predict(xvalid_tfidf),target_names=data['product'].unique()))"
   ]
  },
  {
   "cell_type": "code",
   "execution_count": 25,
   "id": "a409db59",
   "metadata": {},
   "outputs": [
    {
     "data": {
      "image/png": "[encoded data removed]",
      "text/plain": [
       "<Figure size 576x432 with 2 Axes>"
      ]
     },
     "metadata": {
      "needs_background": "light"
     },
     "output_type": "display_data"
    }
   ],
   "source": [
    "#confusion matrix\n",
    "from sklearn.metrics import confusion_matrix\n",
    "\n",
    "conf_mat = confusion_matrix(valid_y, LogisticRegression.predict(xvalid_tfidf))\n",
    "\n",
    "# Vizualizing confusion matrix\n",
    "fig, ax = plt.subplots(figsize=(8,6))\n",
    "sns.heatmap(conf_mat, annot=True, fmt='d', cmap=\"RdPu\", \n",
    "            xticklabels=category_id_data[['product']].values, \n",
    "            yticklabels=category_id_data[['product']].values)\n",
    "plt.ylabel('Actual')\n",
    "plt.xlabel('Predicted')\n",
    "plt.show()"
   ]
  },
  {
   "cell_type": "code",
   "execution_count": 26,
   "id": "4928a84d",
   "metadata": {},
   "outputs": [
    {
     "name": "stdout",
     "output_type": "stream",
     "text": [
      "['This company refuses to provide me verification and validation of debtper my right under the FDCPA. I do not believe this debt is mine.']\n",
      "  - Predicted as: 'Credit reporting'\n"
     ]
    }
   ],
   "source": [
    "# Prediction example\n",
    "texts =  [\"This company refuses to provide me verification and validation of debt\"+ \"per my right under the FDCPA. I do not believe this debt is mine.\"]\n",
    "text_features = tfidf_vect.transform(texts)\n",
    "predictions = LogisticRegression.predict(text_features)\n",
    "print(texts)\n",
    "print(\"  - Predicted as: '{}'\".format(id_to_category[predictions[0]]))"
   ]
  },
  {
   "cell_type": "code",
   "execution_count": 27,
   "id": "30a90280",
   "metadata": {},
   "outputs": [
    {
     "name": "stdout",
     "output_type": "stream",
     "text": [
      "'Consumer Loan' predicted as 'Debt collection' : 21 examples.\n",
      "\n",
      "'Mortgage' predicted as 'Debt collection' : 66 examples.\n",
      "\n",
      "'Credit card' predicted as 'Debt collection' : 16 examples.\n",
      "\n",
      "'Credit reporting' predicted as 'Debt collection' : 23 examples.\n",
      "\n",
      "'Student loan' predicted as 'Debt collection' : 46 examples.\n",
      "\n",
      "'Bank account or service' predicted as 'Debt collection' : 34 examples.\n",
      "\n",
      "'Other financial service' predicted as 'Debt collection' : 26 examples.\n",
      "\n",
      "'Debt collection' predicted as 'Consumer Loan' : 13 examples.\n",
      "\n",
      "'Mortgage' predicted as 'Consumer Loan' : 12 examples.\n",
      "\n",
      "'Credit card' predicted as 'Consumer Loan' : 37 examples.\n",
      "\n",
      "'Credit reporting' predicted as 'Consumer Loan' : 39 examples.\n",
      "\n",
      "'Bank account or service' predicted as 'Consumer Loan' : 18 examples.\n",
      "\n",
      "'Money transfers' predicted as 'Consumer Loan' : 21 examples.\n",
      "\n",
      "'Prepaid card' predicted as 'Consumer Loan' : 14 examples.\n",
      "\n",
      "'Debt collection' predicted as 'Mortgage' : 102 examples.\n",
      "\n",
      "'Consumer Loan' predicted as 'Mortgage' : 52 examples.\n",
      "\n",
      "'Credit card' predicted as 'Mortgage' : 67 examples.\n",
      "\n",
      "'Credit reporting' predicted as 'Mortgage' : 75 examples.\n",
      "\n",
      "'Student loan' predicted as 'Mortgage' : 16 examples.\n",
      "\n",
      "'Bank account or service' predicted as 'Mortgage' : 16 examples.\n",
      "\n",
      "'Other financial service' predicted as 'Mortgage' : 35 examples.\n",
      "\n",
      "'Debt collection' predicted as 'Credit card' : 30 examples.\n",
      "\n",
      "'Consumer Loan' predicted as 'Credit card' : 56 examples.\n",
      "\n",
      "'Mortgage' predicted as 'Credit card' : 97 examples.\n",
      "\n",
      "'Credit reporting' predicted as 'Credit card' : 200 examples.\n",
      "\n",
      "'Bank account or service' predicted as 'Credit card' : 45 examples.\n",
      "\n",
      "'Debt collection' predicted as 'Credit reporting' : 46 examples.\n",
      "\n",
      "'Consumer Loan' predicted as 'Credit reporting' : 150 examples.\n",
      "\n",
      "'Mortgage' predicted as 'Credit reporting' : 146 examples.\n",
      "\n",
      "'Credit card' predicted as 'Credit reporting' : 286 examples.\n",
      "\n",
      "'Student loan' predicted as 'Credit reporting' : 18 examples.\n",
      "\n",
      "'Bank account or service' predicted as 'Credit reporting' : 71 examples.\n",
      "\n",
      "'Payday loan' predicted as 'Credit reporting' : 10 examples.\n",
      "\n",
      "'Money transfers' predicted as 'Credit reporting' : 55 examples.\n",
      "\n",
      "'Prepaid card' predicted as 'Credit reporting' : 57 examples.\n",
      "\n",
      "'Debt collection' predicted as 'Student loan' : 13 examples.\n",
      "\n",
      "'Debt collection' predicted as 'Bank account or service' : 54 examples.\n",
      "\n",
      "'Consumer Loan' predicted as 'Bank account or service' : 50 examples.\n",
      "\n",
      "'Mortgage' predicted as 'Bank account or service' : 18 examples.\n",
      "\n",
      "'Credit card' predicted as 'Bank account or service' : 48 examples.\n",
      "\n",
      "'Credit reporting' predicted as 'Bank account or service' : 85 examples.\n",
      "\n",
      "'Prepaid card' predicted as 'Bank account or service' : 24 examples.\n",
      "\n",
      "'Consumer Loan' predicted as 'Money transfers' : 10 examples.\n",
      "\n",
      "'Credit reporting' predicted as 'Money transfers' : 13 examples.\n",
      "\n",
      "'Debt collection' predicted as 'Other financial service' : 22 examples.\n",
      "\n",
      "'Credit reporting' predicted as 'Prepaid card' : 28 examples.\n",
      "\n"
     ]
    }
   ],
   "source": [
    "# misclassifications\n",
    "from IPython.display import display\n",
    "\n",
    "for predicted in category_id_data.category_id:\n",
    "    for actual in category_id_data.category_id:\n",
    "        if predicted != actual and conf_mat[actual, predicted] >= 10:\n",
    "            print(\"'{}' predicted as '{}' : {} examples.\".format(id_to_category[actual], id_to_category[predicted], conf_mat[actual, predicted]))\n",
    "            # display(data.loc[indices_test[(y_test == actual) & (y_pred == predicted)]][['Product', 'Consumer_complaint_narrative']])\n",
    "            print('')"
   ]
  },
  {
   "cell_type": "code",
   "execution_count": null,
   "id": "5d7215e3",
   "metadata": {},
   "outputs": [],
   "source": []
  }
 ],
 "metadata": {
  "kernelspec": {
   "display_name": "Python 3 (ipykernel)",
   "language": "python",
   "name": "python3"
  },
  "language_info": {
   "codemirror_mode": {
    "name": "ipython",
    "version": 3
   },
   "file_extension": ".py",
   "mimetype": "text/x-python",
   "name": "python",
   "nbconvert_exporter": "python",
   "pygments_lexer": "ipython3",
   "version": "3.9.7"
  }
 },
 "nbformat": 4,
 "nbformat_minor": 5
}
